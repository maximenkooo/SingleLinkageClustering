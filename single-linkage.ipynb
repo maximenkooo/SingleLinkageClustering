{
 "cells": [
  {
   "cell_type": "code",
   "execution_count": 30,
   "metadata": {},
   "outputs": [],
   "source": [
    "import numpy as np\n",
    "from sklearn.cluster.hierarchical import AgglomerativeClustering\n",
    "import matplotlib.pyplot as plt\n",
    "import pandas as pd\n",
    "import time\n",
    "from scipy.cluster.hierarchy import linkage, dendrogram\n",
    "import math"
   ]
  },
  {
   "cell_type": "code",
   "execution_count": 73,
   "metadata": {},
   "outputs": [],
   "source": [
    "#generate points\n",
    "def get_lin_point(size=10):\n",
    "x = np.random.randint(low=-10, high=10, size=size)\n",
    "    k , b = np.random.randint(low=-10, high=10, size=2)\n",
    "    y = x * k + b #+ np.random.randint(1, 5, size=x.size)\n",
    "    data = np.column_stack((x, y))\n",
    "\n",
    "\n",
    "    # plt.gca().set_aspect('equal', adjustable='box')\n",
    "    fig, ax1 = plt.subplots(\n",
    "        nrows=1, ncols=1,\n",
    "        figsize=(4, 4)\n",
    "    )\n",
    "    # ax1.gca().set_aspect('equel')\n",
    "    ax1.scatter(x=x, y=y, marker='o', c='r', edgecolor='b')\n",
    "    ax1.set_xlabel('$x$')\n",
    "    ax1.set_ylabel('$y$')\n",
    "    plt.xlim(-100, 100)\n",
    "    plt.ylim(-100, 100)\n",
    "    plt.show()\n",
    "    return data"
   ]
  },
  {
   "cell_type": "code",
   "execution_count": 74,
   "metadata": {},
   "outputs": [
    {
     "data": {
      "image/png": "[encoded data removed]",
      "text/plain": [
       "<Figure size 288x288 with 1 Axes>"
      ]
     },
     "metadata": {
      "needs_background": "light"
     },
     "output_type": "display_data"
    }
   ],
   "source": [
    "data = get_lin_point(50)"
   ]
  },
  {
   "cell_type": "markdown",
   "metadata": {},
   "source": [
    "sklearn clustering"
   ]
  },
  {
   "cell_type": "code",
   "execution_count": 33,
   "metadata": {},
   "outputs": [],
   "source": [
    "cl = AgglomerativeClustering(4, linkage='single')"
   ]
  },
  {
   "cell_type": "code",
   "execution_count": 34,
   "metadata": {},
   "outputs": [
    {
     "name": "stdout",
     "output_type": "stream",
     "text": [
      "CPU times: user 4 µs, sys: 0 ns, total: 4 µs\n",
      "Wall time: 8.58 µs\n"
     ]
    },
    {
     "data": {
      "text/plain": [
       "AgglomerativeClustering(affinity='euclidean', compute_full_tree='auto',\n",
       "            connectivity=None, linkage='single', memory=None, n_clusters=4,\n",
       "            pooling_func='deprecated')"
      ]
     },
     "execution_count": 34,
     "metadata": {},
     "output_type": "execute_result"
    }
   ],
   "source": [
    "%time\n",
    "cl.fit(data)"
   ]
  },
  {
   "cell_type": "code",
   "execution_count": 35,
   "metadata": {},
   "outputs": [
    {
     "data": {
      "text/plain": [
       "(50, 2)"
      ]
     },
     "execution_count": 35,
     "metadata": {},
     "output_type": "execute_result"
    }
   ],
   "source": [
    "data.shape"
   ]
  },
  {
   "cell_type": "code",
   "execution_count": 36,
   "metadata": {},
   "outputs": [
    {
     "data": {
      "image/png": "[encoded data removed]",
      "text/plain": [
       "<Figure size 432x288 with 1 Axes>"
      ]
     },
     "metadata": {
      "needs_background": "light"
     },
     "output_type": "display_data"
    }
   ],
   "source": [
    "plt.scatter(data[:,0],data[:,1], c=cl.labels_, cmap='rainbow')  \n",
    "plt.xlim(-100,100)\n",
    "plt.ylim(-100,100)\n",
    "plt.show()"
   ]
  },
  {
   "cell_type": "code",
   "execution_count": 37,
   "metadata": {},
   "outputs": [
    {
     "name": "stderr",
     "output_type": "stream",
     "text": [
      "/home/helga/anaconda3/lib/python3.7/site-packages/matplotlib/text.py:1191: FutureWarning: elementwise comparison failed; returning scalar instead, but in the future will perform elementwise comparison\n",
      "  if s != self._text:\n"
     ]
    },
    {
     "data": {
      "image/png": "[encoded data removed]",
      "text/plain": [
       "<Figure size 432x288 with 1 Axes>"
      ]
     },
     "metadata": {
      "needs_background": "light"
     },
     "output_type": "display_data"
    }
   ],
   "source": [
    "mergings = linkage(data, method='single')\n",
    "dendrogram(mergings,labels=data)\n",
    "plt.show()"
   ]
  },
  {
   "cell_type": "code",
   "execution_count": 159,
   "metadata": {},
   "outputs": [],
   "source": [
    "d = pd.DataFrame(data)\n",
    "# d"
   ]
  },
  {
   "cell_type": "markdown",
   "metadata": {},
   "source": [
    "written clustering"
   ]
  },
  {
   "cell_type": "code",
   "execution_count": 39,
   "metadata": {},
   "outputs": [],
   "source": [
    "def single_distance(clusters ,n_clusters):\n",
    "    while len(clusters) is not n_clusters:\n",
    "        d_min = math.inf\n",
    "        # for every cluster (until second last element)\n",
    "        for cluster_id, cluster in enumerate(clusters[:len(clusters)]): \n",
    "            # for each point in each cluster\n",
    "            for point_id,point in enumerate(cluster): \n",
    "                # we only need to compare with clusters after the current one\n",
    "                for cluster2_id, cluster2 in enumerate(clusters[(cluster_id+1):]): \n",
    "                    # go through every point in this prospective cluster as well\n",
    "                    for point2_id, point2 in enumerate(cluster2):\n",
    "# if this distance is better than our previous best distance then we are going to overwrite it\n",
    "                        if np.linalg.norm(np.array(point)-np.array(point2)) < d_min: \n",
    "                            # Only used for comparing \n",
    "                            d_min = np.linalg.norm(np.array(point)-np.array(point2))\n",
    "                # this will be used at the end to figure out which cluster to merge with which\n",
    "                            clust_1 = cluster_id\n",
    "                            clust_2 = cluster2_id+cluster_id+1\n",
    "        clusters[clust_1].extend(clusters[clust_2]) \n",
    "        clusters.pop(clust_2)\n",
    "    return(clusters)"
   ]
  },
  {
   "cell_type": "code",
   "execution_count": 127,
   "metadata": {},
   "outputs": [
    {
     "name": "stdout",
     "output_type": "stream",
     "text": [
      "CPU times: user 6 µs, sys: 0 ns, total: 6 µs\n",
      "Wall time: 13.1 µs\n"
     ]
    }
   ],
   "source": [
    "%time\n",
    "# initialization of clusters at first (every point is a cluster)\n",
    "init_clusters=[]\n",
    "for index, row in d.iterrows():\n",
    "    init_clusters.append([[row[0], row[1]]])\n",
    "clusters = single_distance(init_clusters, cluster_num)"
   ]
  },
  {
   "cell_type": "code",
   "execution_count": 43,
   "metadata": {},
   "outputs": [
    {
     "data": {
      "image/png": "[encoded data removed]",
      "text/plain": [
       "<Figure size 432x288 with 1 Axes>"
      ]
     },
     "metadata": {
      "needs_background": "light"
     },
     "output_type": "display_data"
    }
   ],
   "source": [
    "colors = ['red', 'yellow', 'blue', 'green']\n",
    "for cluster_index, cluster in enumerate(clusters):\n",
    "    for point_index, point in enumerate(cluster):\n",
    "        plt.plot([point[0]], [point[1]], marker='o', markersize=3, color=colors[cluster_index])"
   ]
  }
 ],
 "metadata": {
  "kernelspec": {
   "display_name": "Python 3",
   "language": "python",
   "name": "python3"
  },
  "language_info": {
   "codemirror_mode": {
    "name": "ipython",
    "version": 3
   },
   "file_extension": ".py",
   "mimetype": "text/x-python",
   "name": "python",
   "nbconvert_exporter": "python",
   "pygments_lexer": "ipython3",
   "version": "3.7.3"
  }
 },
 "nbformat": 4,
 "nbformat_minor": 2
}
